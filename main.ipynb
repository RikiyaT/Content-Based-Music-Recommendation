{
  "nbformat": 4,
  "nbformat_minor": 0,
  "metadata": {
    "colab": {
      "provenance": [],
      "authorship_tag": "ABX9TyMxYskmsmINiBXCxNEUmNhk",
      "include_colab_link": true
    },
    "kernelspec": {
      "name": "python3",
      "display_name": "Python 3"
    },
    "language_info": {
      "name": "python"
    }
  },
  "cells": [
    {
      "cell_type": "markdown",
      "metadata": {
        "id": "view-in-github",
        "colab_type": "text"
      },
      "source": [
        "<a href=\"https://colab.research.google.com/github/RikiyaT/MusicRecSys/blob/main/main.ipynb\" target=\"_parent\"><img src=\"https://colab.research.google.com/assets/colab-badge.svg\" alt=\"Open In Colab\"/></a>"
      ]
    },
    {
      "cell_type": "code",
      "execution_count": 1,
      "metadata": {
        "colab": {
          "base_uri": "https://localhost:8080/"
        },
        "id": "nZJdJZuEdMHE",
        "outputId": "69aed1ef-461c-4faa-ff2e-39da8ca4722c"
      },
      "outputs": [
        {
          "output_type": "stream",
          "name": "stdout",
          "text": [
            "Looking in indexes: https://pypi.org/simple, https://us-python.pkg.dev/colab-wheels/public/simple/\n",
            "Collecting spotipy\n",
            "  Downloading spotipy-2.23.0-py3-none-any.whl (29 kB)\n",
            "Requirement already satisfied: requests>=2.25.0 in /usr/local/lib/python3.9/dist-packages (from spotipy) (2.27.1)\n",
            "Collecting redis>=3.5.3\n",
            "  Downloading redis-4.5.4-py3-none-any.whl (238 kB)\n",
            "\u001b[2K     \u001b[90m━━━━━━━━━━━━━━━━━━━━━━━━━━━━━━━━━━━━━━━\u001b[0m \u001b[32m238.9/238.9 kB\u001b[0m \u001b[31m8.5 MB/s\u001b[0m eta \u001b[36m0:00:00\u001b[0m\n",
            "\u001b[?25hRequirement already satisfied: urllib3>=1.26.0 in /usr/local/lib/python3.9/dist-packages (from spotipy) (1.26.15)\n",
            "Requirement already satisfied: six>=1.15.0 in /usr/local/lib/python3.9/dist-packages (from spotipy) (1.16.0)\n",
            "Collecting async-timeout>=4.0.2\n",
            "  Downloading async_timeout-4.0.2-py3-none-any.whl (5.8 kB)\n",
            "Requirement already satisfied: idna<4,>=2.5 in /usr/local/lib/python3.9/dist-packages (from requests>=2.25.0->spotipy) (3.4)\n",
            "Requirement already satisfied: charset-normalizer~=2.0.0 in /usr/local/lib/python3.9/dist-packages (from requests>=2.25.0->spotipy) (2.0.12)\n",
            "Requirement already satisfied: certifi>=2017.4.17 in /usr/local/lib/python3.9/dist-packages (from requests>=2.25.0->spotipy) (2022.12.7)\n",
            "Installing collected packages: async-timeout, redis, spotipy\n",
            "Successfully installed async-timeout-4.0.2 redis-4.5.4 spotipy-2.23.0\n"
          ]
        }
      ],
      "source": [
        "!pip install spotipy"
      ]
    },
    {
      "cell_type": "code",
      "source": [
        "import spotipy\n",
        "from spotipy.oauth2 import SpotifyClientCredentials\n",
        "from spotipy.oauth2 import SpotifyOAuth\n",
        "import spotipy.util as util\n",
        "\n",
        "from skimage import io\n",
        "import matplotlib.pyplot as plt\n",
        "import pandas as pd\n",
        "from datetime import datetime\n",
        "\n",
        "\n",
        "from sklearn.preprocessing import MinMaxScaler\n",
        "from sklearn.metrics.pairwise import cosine_similarity"
      ],
      "metadata": {
        "id": "MSZSGtjdd69z"
      },
      "execution_count": 2,
      "outputs": []
    },
    {
      "cell_type": "code",
      "source": [
        "spotify_data=pd.read_csv(\"SpotifyFeatures.csv\")\n",
        "spotify_data.head()"
      ],
      "metadata": {
        "id": "qYhBc3hZd7Xr"
      },
      "execution_count": null,
      "outputs": []
    },
    {
      "cell_type": "code",
      "source": [
        "spotify_features_df=spotify_data\n",
        "genre_OHE=pd.get_dummies(spotify_features_df.genre)\n",
        "key_OHE=pd.get_dummies(spotify_features_df.key)"
      ],
      "metadata": {
        "id": "NlmpDk6seEGP"
      },
      "execution_count": null,
      "outputs": []
    },
    {
      "cell_type": "code",
      "source": [
        "scaled_features=MinMaxScaler().fit_transform([\n",
        "    spotify_features_df['acousticness'].values, \n",
        "    spotify_features_df['danceability'].values, \n",
        "    spotify_features_df['duration_ms'].values, \n",
        "    spotify_features_df['energy'].values, \n",
        "    spotify_features_df['instrumentalness'].values, \n",
        "    spotify_features_df['liveness'].values, \n",
        "    spotify_features_df['loudness'].values, \n",
        "    spotify_features_df['speechiness'].values, \n",
        "    spotify_features_df['tempo'].values, \n",
        "    spotify_features_df['valence'].values\n",
        "])"
      ],
      "metadata": {
        "id": "KlA9kVUieE7p"
      },
      "execution_count": null,
      "outputs": []
    },
    {
      "cell_type": "code",
      "source": [
        "spotify_features_df[['acousticness','danceability','duration_ms','energy','instrumentalness','liveness','loudness','speechiness','tempo','valence']] = scaled_features.T"
      ],
      "metadata": {
        "id": "b89EBrP_eHB1"
      },
      "execution_count": null,
      "outputs": []
    },
    {
      "cell_type": "code",
      "source": [
        "spotify_features_df = spotify_features_df.drop('genre', axis = 1)\n",
        "spotify_features_df = spotify_features_df.drop('artist_name', axis = 1)\n",
        "spotify_features_df = spotify_features_df.drop('track_name', axis = 1)\n",
        "spotify_features_df = spotify_features_df.drop('popularity',axis = 1)\n",
        "spotify_features_df = spotify_features_df.drop('key', axis = 1)\n",
        "spotify_features_df = spotify_features_df.drop('mode', axis = 1)\n",
        "spotify_features_df = spotify_features_df.drop('time_signature', axis = 1)"
      ],
      "metadata": {
        "id": "CJRPMGf4eIT5"
      },
      "execution_count": null,
      "outputs": []
    },
    {
      "cell_type": "code",
      "source": [
        "spotify_features_df = spotify_features_df.join(genre_OHE)\n",
        "spotify_features_df = spotify_features_df.join(key_OHE)"
      ],
      "metadata": {
        "id": "rfCE1CjdeKBA"
      },
      "execution_count": null,
      "outputs": []
    },
    {
      "cell_type": "code",
      "source": [
        "spotify_features_df.head()"
      ],
      "metadata": {
        "id": "vQKf_5yveN8t"
      },
      "execution_count": null,
      "outputs": []
    }
  ]
}